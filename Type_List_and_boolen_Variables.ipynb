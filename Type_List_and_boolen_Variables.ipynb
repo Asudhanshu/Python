{
 "cells": [
  {
   "cell_type": "markdown",
   "id": "a1bb78a0",
   "metadata": {},
   "source": [
    "# Printing Large sentences"
   ]
  },
  {
   "cell_type": "code",
   "execution_count": 8,
   "id": "0faf2de6",
   "metadata": {},
   "outputs": [],
   "source": [
    "first_name='Sudhanshu'\n",
    "last_name='agrawal'"
   ]
  },
  {
   "cell_type": "code",
   "execution_count": 9,
   "id": "9e53f1fa",
   "metadata": {},
   "outputs": [
    {
     "name": "stdout",
     "output_type": "stream",
     "text": [
      "My first name is Sudhanshu and last name is agrawal\n"
     ]
    }
   ],
   "source": [
    "print(\"My first name is {} and last name is {}\".format(first_name,last_name))"
   ]
  },
  {
   "cell_type": "code",
   "execution_count": 10,
   "id": "412bc9fa",
   "metadata": {},
   "outputs": [
    {
     "name": "stdout",
     "output_type": "stream",
     "text": [
      "My first name is Sudhanshu and last name is agrawal\n",
      "My first name is agrawal and last name is Sudhanshu\n"
     ]
    }
   ],
   "source": [
    "print(\"My first name is {first} and last name is {last}\".format(last=last_name,first=first_name))\n",
    "print(\"My first name is {last} and last name is {first}\".format(last=last_name,first=first_name))"
   ]
  },
  {
   "cell_type": "markdown",
   "id": "ed8b8a4c",
   "metadata": {},
   "source": [
    "# Functions"
   ]
  },
  {
   "cell_type": "code",
   "execution_count": 11,
   "id": "00aa5cec",
   "metadata": {},
   "outputs": [
    {
     "data": {
      "text/plain": [
       "9"
      ]
     },
     "execution_count": 11,
     "metadata": {},
     "output_type": "execute_result"
    }
   ],
   "source": [
    "len(first_name)"
   ]
  },
  {
   "cell_type": "markdown",
   "id": "19f51a63",
   "metadata": {},
   "source": [
    "# Python Data structures and variables\n",
    "- Tuples\n",
    "- Lists\n",
    "- Comparison Operators\n",
    "- Sets\n",
    "- Dictionaries"
   ]
  },
  {
   "cell_type": "code",
   "execution_count": 12,
   "id": "984bdf89",
   "metadata": {},
   "outputs": [
    {
     "data": {
      "text/plain": [
       "bool"
      ]
     },
     "execution_count": 12,
     "metadata": {},
     "output_type": "execute_result"
    }
   ],
   "source": [
    "type(True)"
   ]
  },
  {
   "cell_type": "code",
   "execution_count": 13,
   "id": "ef8fe7d2",
   "metadata": {},
   "outputs": [],
   "source": [
    "my_str=\"sudhanshu Agrawal 12@\""
   ]
  },
  {
   "cell_type": "code",
   "execution_count": 14,
   "id": "84ff1c91",
   "metadata": {},
   "outputs": [
    {
     "name": "stdout",
     "output_type": "stream",
     "text": [
      "False\n",
      "False\n",
      "False\n",
      "False\n",
      "sudhanshu agrawal 12@\n",
      "Sudhanshu agrawal 12@\n"
     ]
    }
   ],
   "source": [
    "print(my_str.isalnum()) #Check if all character are numbers\n",
    "print(my_str.isalpha()) #Check if all characters are alphabets\n",
    "print(my_str.startswith('S')) #Check if string starts with S\n",
    "print(my_str.endswith('l')) #Check if string ends with l\n",
    "print(my_str.casefold()) #Convert string into lower case letters\n",
    "print(my_str.capitalize()) #Convert first letter into Upper case and remaining all into small letters"
   ]
  },
  {
   "cell_type": "markdown",
   "id": "70f1c972",
   "metadata": {},
   "source": [
    "## Lists"
   ]
  },
  {
   "cell_type": "markdown",
   "id": "aebc72b9",
   "metadata": {},
   "source": [
    "A list is a data structure in Python that is a mutable, or changeable, ordered sequence of elements. Each element or value that is inside a list is called an item. Just as strings are defined as characters between quotes, lists aer defined by having values between square brackets[]."
   ]
  },
  {
   "cell_type": "code",
   "execution_count": 15,
   "id": "b22ff932",
   "metadata": {},
   "outputs": [],
   "source": [
    "lst_example=[]"
   ]
  },
  {
   "cell_type": "code",
   "execution_count": 16,
   "id": "82c090ef",
   "metadata": {},
   "outputs": [
    {
     "data": {
      "text/plain": [
       "list"
      ]
     },
     "execution_count": 16,
     "metadata": {},
     "output_type": "execute_result"
    }
   ],
   "source": [
    "type(lst_example)"
   ]
  },
  {
   "cell_type": "code",
   "execution_count": 17,
   "id": "f9cd5595",
   "metadata": {},
   "outputs": [],
   "source": [
    "lst=['Mathematics','Chemistry',100,200,300]"
   ]
  },
  {
   "cell_type": "markdown",
   "id": "701449a0",
   "metadata": {},
   "source": [
    "# Append function"
   ]
  },
  {
   "cell_type": "code",
   "execution_count": 18,
   "id": "6211d842",
   "metadata": {
    "scrolled": true
   },
   "outputs": [],
   "source": [
    "lst.append('Su')\n",
    "lst.append(['Sudhanshu','Agrawal'])\n",
    "lst.append('Sudha')"
   ]
  },
  {
   "cell_type": "code",
   "execution_count": 19,
   "id": "dc126111",
   "metadata": {},
   "outputs": [
    {
     "name": "stdout",
     "output_type": "stream",
     "text": [
      "['Mathematics', 'Chemistry', 100, 200, 300, 'Su', ['Sudhanshu', 'Agrawal'], 'Sudha']\n"
     ]
    }
   ],
   "source": [
    "print(lst)"
   ]
  },
  {
   "cell_type": "code",
   "execution_count": 20,
   "id": "e68e75fb",
   "metadata": {},
   "outputs": [
    {
     "data": {
      "text/plain": [
       "8"
      ]
     },
     "execution_count": 20,
     "metadata": {},
     "output_type": "execute_result"
    }
   ],
   "source": [
    "len(lst)"
   ]
  },
  {
   "cell_type": "markdown",
   "id": "67bc9cfa",
   "metadata": {},
   "source": [
    "Taking input of list from user"
   ]
  },
  {
   "cell_type": "code",
   "execution_count": 21,
   "id": "fcb42360",
   "metadata": {},
   "outputs": [],
   "source": [
    "lis3=list()"
   ]
  },
  {
   "cell_type": "markdown",
   "id": "0308adde",
   "metadata": {},
   "source": [
    "# Insert the element in specific order"
   ]
  },
  {
   "cell_type": "code",
   "execution_count": 22,
   "id": "a86e3a8a",
   "metadata": {},
   "outputs": [],
   "source": [
    "lis3.insert(0,\"Agrawal\")\n",
    "lst.insert(1,'Sudhanshu')"
   ]
  },
  {
   "cell_type": "code",
   "execution_count": 23,
   "id": "c802c614",
   "metadata": {},
   "outputs": [
    {
     "name": "stdout",
     "output_type": "stream",
     "text": [
      "['Agrawal']\n",
      "['Mathematics', 'Sudhanshu', 'Chemistry', 100, 200, 300, 'Su', ['Sudhanshu', 'Agrawal'], 'Sudha']\n"
     ]
    },
    {
     "data": {
      "text/plain": [
       "200"
      ]
     },
     "execution_count": 23,
     "metadata": {},
     "output_type": "execute_result"
    }
   ],
   "source": [
    "print(lis3)\n",
    "print(lst)\n",
    "lst[4]"
   ]
  },
  {
   "cell_type": "markdown",
   "id": "e95fd9e5",
   "metadata": {},
   "source": [
    "### Extend the list(add multiple elements at single time)"
   ]
  },
  {
   "cell_type": "code",
   "execution_count": 24,
   "id": "eba4ece7",
   "metadata": {},
   "outputs": [],
   "source": [
    "lst.extend([1,2,3,4,5,100])"
   ]
  },
  {
   "cell_type": "code",
   "execution_count": 25,
   "id": "8fabb8ad",
   "metadata": {},
   "outputs": [
    {
     "data": {
      "text/plain": [
       "['Mathematics',\n",
       " 'Sudhanshu',\n",
       " 'Chemistry',\n",
       " 100,\n",
       " 200,\n",
       " 300,\n",
       " 'Su',\n",
       " ['Sudhanshu', 'Agrawal'],\n",
       " 'Sudha',\n",
       " 1,\n",
       " 2,\n",
       " 3,\n",
       " 4,\n",
       " 5,\n",
       " 100]"
      ]
     },
     "execution_count": 25,
     "metadata": {},
     "output_type": "execute_result"
    }
   ],
   "source": [
    "lst"
   ]
  },
  {
   "cell_type": "markdown",
   "id": "eadd994c",
   "metadata": {},
   "source": [
    "## Range based Indexing"
   ]
  },
  {
   "cell_type": "code",
   "execution_count": 26,
   "id": "6a796e31",
   "metadata": {},
   "outputs": [
    {
     "data": {
      "text/plain": [
       "['Mathematics',\n",
       " 'Sudhanshu',\n",
       " 'Chemistry',\n",
       " 100,\n",
       " 200,\n",
       " 300,\n",
       " 'Su',\n",
       " ['Sudhanshu', 'Agrawal'],\n",
       " 'Sudha',\n",
       " 1,\n",
       " 2,\n",
       " 3,\n",
       " 4,\n",
       " 5]"
      ]
     },
     "execution_count": 26,
     "metadata": {},
     "output_type": "execute_result"
    }
   ],
   "source": [
    "lst[:]\n",
    "lst[0:-1]"
   ]
  },
  {
   "cell_type": "markdown",
   "id": "2268ba56",
   "metadata": {},
   "source": [
    "# Various Operations that we can perform in list"
   ]
  },
  {
   "cell_type": "code",
   "execution_count": 27,
   "id": "b3c15866",
   "metadata": {},
   "outputs": [],
   "source": [
    "lst=[2,3,4,5,6,7]"
   ]
  },
  {
   "cell_type": "code",
   "execution_count": 28,
   "id": "e1df5dd4",
   "metadata": {},
   "outputs": [
    {
     "data": {
      "text/plain": [
       "27"
      ]
     },
     "execution_count": 28,
     "metadata": {},
     "output_type": "execute_result"
    }
   ],
   "source": [
    "sum(lst)"
   ]
  },
  {
   "cell_type": "code",
   "execution_count": 29,
   "id": "c1439dd8",
   "metadata": {},
   "outputs": [
    {
     "data": {
      "text/plain": [
       "7"
      ]
     },
     "execution_count": 29,
     "metadata": {},
     "output_type": "execute_result"
    }
   ],
   "source": [
    "lst.pop()"
   ]
  },
  {
   "cell_type": "code",
   "execution_count": 30,
   "id": "cd5809a0",
   "metadata": {},
   "outputs": [
    {
     "data": {
      "text/plain": [
       "2"
      ]
     },
     "execution_count": 30,
     "metadata": {},
     "output_type": "execute_result"
    }
   ],
   "source": [
    "lst.pop(0)"
   ]
  },
  {
   "cell_type": "code",
   "execution_count": 31,
   "id": "94ffe3de",
   "metadata": {},
   "outputs": [
    {
     "data": {
      "text/plain": [
       "1"
      ]
     },
     "execution_count": 31,
     "metadata": {},
     "output_type": "execute_result"
    }
   ],
   "source": [
    "lst.count(5)"
   ]
  },
  {
   "cell_type": "code",
   "execution_count": 32,
   "id": "ed358934",
   "metadata": {},
   "outputs": [
    {
     "data": {
      "text/plain": [
       "2"
      ]
     },
     "execution_count": 32,
     "metadata": {},
     "output_type": "execute_result"
    }
   ],
   "source": [
    "lst.index(5,1,4) #value,startindex,endindex"
   ]
  },
  {
   "cell_type": "code",
   "execution_count": 33,
   "id": "d94b5389",
   "metadata": {},
   "outputs": [
    {
     "data": {
      "text/plain": [
       "[3, 4, 5, 6, 3, 4, 5, 6]"
      ]
     },
     "execution_count": 33,
     "metadata": {},
     "output_type": "execute_result"
    }
   ],
   "source": [
    "lst*2 #Repeat the elements in the same order"
   ]
  },
  {
   "cell_type": "code",
   "execution_count": 34,
   "id": "a9b78ea1",
   "metadata": {},
   "outputs": [
    {
     "data": {
      "text/plain": [
       "3"
      ]
     },
     "execution_count": 34,
     "metadata": {},
     "output_type": "execute_result"
    }
   ],
   "source": [
    "min(lst)"
   ]
  },
  {
   "cell_type": "code",
   "execution_count": 35,
   "id": "63700352",
   "metadata": {},
   "outputs": [
    {
     "data": {
      "text/plain": [
       "6"
      ]
     },
     "execution_count": 35,
     "metadata": {},
     "output_type": "execute_result"
    }
   ],
   "source": [
    "max(lst)"
   ]
  },
  {
   "cell_type": "markdown",
   "id": "e96b54ef",
   "metadata": {},
   "source": [
    "# Sets"
   ]
  },
  {
   "cell_type": "markdown",
   "id": "300f9091",
   "metadata": {},
   "source": [
    "A set is an ordered collection data type that is iterable,mutable and has no duplicate elements. Python's set class represents the mathematical notion of a set.This is based on a data structure known as hash table"
   ]
  },
  {
   "cell_type": "code",
   "execution_count": 36,
   "id": "230b4b3b",
   "metadata": {},
   "outputs": [
    {
     "name": "stdout",
     "output_type": "stream",
     "text": [
      "set()\n",
      "<class 'set'>\n"
     ]
    }
   ],
   "source": [
    "#Define an empty set\n",
    "\n",
    "set_var=set()\n",
    "print(set_var)\n",
    "print(type(set_var))"
   ]
  },
  {
   "cell_type": "code",
   "execution_count": 37,
   "id": "29411151",
   "metadata": {},
   "outputs": [
    {
     "name": "stdout",
     "output_type": "stream",
     "text": [
      "{'Avengers', 'avengers', 'Ironman', 'Hitman'}\n",
      "{'avengers'}\n"
     ]
    }
   ],
   "source": [
    "set_var={\"Avengers\",\"Ironman\",\"Hitman\",\"avengers\"}\n",
    "set_var1={\"avengers\"}\n",
    "print(set_var)\n",
    "print(set_var1)"
   ]
  },
  {
   "cell_type": "code",
   "execution_count": 38,
   "id": "c365c929",
   "metadata": {},
   "outputs": [
    {
     "name": "stdout",
     "output_type": "stream",
     "text": [
      "{1, 'Ironman', 'Hitman', 'Hulk', 'Avengers', 'avengers'}\n"
     ]
    }
   ],
   "source": [
    "set_var.add('Hulk')\n",
    "set_var.add(1)\n",
    "set_var.update(set_var1)\n",
    "print(set_var)"
   ]
  },
  {
   "cell_type": "code",
   "execution_count": 39,
   "id": "f77a6616",
   "metadata": {},
   "outputs": [
    {
     "name": "stdout",
     "output_type": "stream",
     "text": [
      "{1, 'Ironman', 'Hitman', 'Hulk', 'Avengers', 'avengers'}\n",
      "{1, 'Ironman', 'Hitman', 'Hulk', 'Avengers'}\n"
     ]
    }
   ],
   "source": [
    "set_var.difference(set_var1)\n",
    "print(set_var)\n",
    "set_var.difference_update(set_var1)\n",
    "print(set_var)"
   ]
  },
  {
   "cell_type": "markdown",
   "id": "87a6efaf",
   "metadata": {},
   "source": [
    "# Dictionaries"
   ]
  },
  {
   "cell_type": "markdown",
   "id": "fd3c1b0e",
   "metadata": {},
   "source": [
    "A dictionary is a collection which is unordered, changeable and indexed. In Python dictionaries are written with curly brackets, and they have keys and values.\n",
    "They are also used in mongodb to create the JSON files."
   ]
  },
  {
   "cell_type": "code",
   "execution_count": 64,
   "id": "ca3d724f",
   "metadata": {},
   "outputs": [],
   "source": [
    "dic={}"
   ]
  },
  {
   "cell_type": "code",
   "execution_count": 65,
   "id": "dfe4a656",
   "metadata": {},
   "outputs": [
    {
     "data": {
      "text/plain": [
       "dict"
      ]
     },
     "execution_count": 65,
     "metadata": {},
     "output_type": "execute_result"
    }
   ],
   "source": [
    "type(dic)"
   ]
  },
  {
   "cell_type": "markdown",
   "id": "16ce509b",
   "metadata": {},
   "source": [
    "### Lets create a manual dictionary"
   ]
  },
  {
   "cell_type": "code",
   "execution_count": 42,
   "id": "4637431e",
   "metadata": {},
   "outputs": [],
   "source": [
    "dic={\"car1\":\"Audi\",\"car2\":\"BMW\",\"car3\":\"Mercedez Benz\"}"
   ]
  },
  {
   "cell_type": "code",
   "execution_count": 43,
   "id": "9fc61a15",
   "metadata": {},
   "outputs": [
    {
     "data": {
      "text/plain": [
       "'Audi'"
      ]
     },
     "execution_count": 43,
     "metadata": {},
     "output_type": "execute_result"
    }
   ],
   "source": [
    "#Access the item values based on the keys\n",
    "\n",
    "dic[\"car1\"]"
   ]
  },
  {
   "cell_type": "code",
   "execution_count": 44,
   "id": "fae24a33",
   "metadata": {},
   "outputs": [
    {
     "name": "stdout",
     "output_type": "stream",
     "text": [
      "car1\n",
      "car2\n",
      "car3\n"
     ]
    }
   ],
   "source": [
    "#We can have loop through out the dictionaries keys\n",
    "\n",
    "for x in dic:\n",
    "    print(x)"
   ]
  },
  {
   "cell_type": "code",
   "execution_count": 45,
   "id": "9ac6130d",
   "metadata": {},
   "outputs": [
    {
     "name": "stdout",
     "output_type": "stream",
     "text": [
      "Audi\n",
      "BMW\n",
      "Mercedez Benz\n"
     ]
    }
   ],
   "source": [
    "#Iterating through the values of dictionaries\n",
    "\n",
    "for x in dic.values():\n",
    "    print(x)"
   ]
  },
  {
   "cell_type": "code",
   "execution_count": 46,
   "id": "87d690d2",
   "metadata": {},
   "outputs": [
    {
     "name": "stdout",
     "output_type": "stream",
     "text": [
      "('car1', 'Audi')\n",
      "('car2', 'BMW')\n",
      "('car3', 'Mercedez Benz')\n"
     ]
    }
   ],
   "source": [
    "#Traversing through both key and values\n",
    "\n",
    "for x in dic.items():\n",
    "    print(x)"
   ]
  },
  {
   "cell_type": "code",
   "execution_count": 47,
   "id": "bab96885",
   "metadata": {},
   "outputs": [],
   "source": [
    "#Adding items in dictionaries\n",
    "\n",
    "dic['car4']='Audi 2.0'"
   ]
  },
  {
   "cell_type": "code",
   "execution_count": 48,
   "id": "96fd99d9",
   "metadata": {},
   "outputs": [
    {
     "data": {
      "text/plain": [
       "{'car1': 'Audi', 'car2': 'BMW', 'car3': 'Mercedez Benz', 'car4': 'Audi 2.0'}"
      ]
     },
     "execution_count": 48,
     "metadata": {},
     "output_type": "execute_result"
    }
   ],
   "source": [
    "dic"
   ]
  },
  {
   "cell_type": "code",
   "execution_count": 49,
   "id": "2e6a6704",
   "metadata": {},
   "outputs": [],
   "source": [
    "#Replacing existing values\n",
    "\n",
    "dic['car1']='Maruti'"
   ]
  },
  {
   "cell_type": "code",
   "execution_count": 50,
   "id": "cef28bac",
   "metadata": {},
   "outputs": [
    {
     "data": {
      "text/plain": [
       "{'car1': 'Maruti', 'car2': 'BMW', 'car3': 'Mercedez Benz', 'car4': 'Audi 2.0'}"
      ]
     },
     "execution_count": 50,
     "metadata": {},
     "output_type": "execute_result"
    }
   ],
   "source": [
    "dic"
   ]
  },
  {
   "cell_type": "markdown",
   "id": "bdd1743c",
   "metadata": {},
   "source": [
    "## Nested Dictionary"
   ]
  },
  {
   "cell_type": "code",
   "execution_count": 69,
   "id": "4fe14fd2",
   "metadata": {},
   "outputs": [],
   "source": [
    "car1_model={'Mercedes':1960}\n",
    "car2_model={'Audi':1970}\n",
    "car3_model={'Ambassador':1980}\n",
    "car4_model={'Suzuki':1990}\n",
    "car_type={'car1':car1_model,'car2':car2_model,'car3':car3_model,'car4':car4_model}"
   ]
  },
  {
   "cell_type": "code",
   "execution_count": 70,
   "id": "50600059",
   "metadata": {},
   "outputs": [
    {
     "data": {
      "text/plain": [
       "{'car1': {'Mercedes': 1960},\n",
       " 'car2': {'Audi': 1970},\n",
       " 'car3': {'Ambassador': 1980},\n",
       " 'car4': {'Suzuki': 1990}}"
      ]
     },
     "execution_count": 70,
     "metadata": {},
     "output_type": "execute_result"
    }
   ],
   "source": [
    "car_type"
   ]
  },
  {
   "cell_type": "code",
   "execution_count": 53,
   "id": "bd54c6cf",
   "metadata": {},
   "outputs": [
    {
     "name": "stdout",
     "output_type": "stream",
     "text": [
      "1960\n"
     ]
    }
   ],
   "source": [
    "print(car_type['car1']['Mercedes'])"
   ]
  },
  {
   "cell_type": "markdown",
   "id": "7a67346a",
   "metadata": {},
   "source": [
    "## Tuples"
   ]
  },
  {
   "cell_type": "markdown",
   "id": "932b04d9",
   "metadata": {},
   "source": [
    "Tuples is not mutable. It doesn't support item assignment. They are used in such programs where definition is required one time"
   ]
  },
  {
   "cell_type": "code",
   "execution_count": 54,
   "id": "e1e105b8",
   "metadata": {},
   "outputs": [],
   "source": [
    "# create an empty Tuples\n",
    "\n",
    "my_tuple=tuple()"
   ]
  },
  {
   "cell_type": "code",
   "execution_count": 55,
   "id": "53f9741c",
   "metadata": {},
   "outputs": [
    {
     "data": {
      "text/plain": [
       "()"
      ]
     },
     "execution_count": 55,
     "metadata": {},
     "output_type": "execute_result"
    }
   ],
   "source": [
    "tuple(my_tuple)"
   ]
  },
  {
   "cell_type": "code",
   "execution_count": 56,
   "id": "84ec9a60",
   "metadata": {},
   "outputs": [],
   "source": [
    "my_tuple=('Krish','Ankur','John')"
   ]
  },
  {
   "cell_type": "code",
   "execution_count": 57,
   "id": "4f164225",
   "metadata": {},
   "outputs": [
    {
     "name": "stdout",
     "output_type": "stream",
     "text": [
      "Krish\n"
     ]
    }
   ],
   "source": [
    "print (my_tuple[0])"
   ]
  },
  {
   "cell_type": "code",
   "execution_count": 58,
   "id": "9ec77475",
   "metadata": {},
   "outputs": [
    {
     "data": {
      "text/plain": [
       "1"
      ]
     },
     "execution_count": 58,
     "metadata": {},
     "output_type": "execute_result"
    }
   ],
   "source": [
    "#Inbuilt function  \n",
    "my_tuple.count('Ankur')"
   ]
  }
 ],
 "metadata": {
  "kernelspec": {
   "display_name": "Python 3 (ipykernel)",
   "language": "python",
   "name": "python3"
  },
  "language_info": {
   "codemirror_mode": {
    "name": "ipython",
    "version": 3
   },
   "file_extension": ".py",
   "mimetype": "text/x-python",
   "name": "python",
   "nbconvert_exporter": "python",
   "pygments_lexer": "ipython3",
   "version": "3.9.7"
  }
 },
 "nbformat": 4,
 "nbformat_minor": 5
}
