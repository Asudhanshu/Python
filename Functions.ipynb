{
 "cells": [
  {
   "cell_type": "markdown",
   "id": "75f374c4",
   "metadata": {},
   "source": [
    "## Python OOPS"
   ]
  },
  {
   "cell_type": "markdown",
   "id": "8a76f6f0",
   "metadata": {},
   "source": [
    "In python object oriented programming is a paradigm that uses objects and classes in programming. It also implements the real world entities like Inheritance, Polymorphism, Encapsulation etc. in the programming. The main concept of OOP is to bind the data and the functions that work on them together, so that no other area of code can access this data."
   ]
  },
  {
   "cell_type": "markdown",
   "id": "acd644c1",
   "metadata": {},
   "source": [
    "##### Main concepts of OOPS\n",
    "Class,\n",
    "Objects,\n",
    "Inheritance,\n",
    "Polymorphism,\n",
    "Encapuslation"
   ]
  },
  {
   "cell_type": "markdown",
   "id": "c6403fbe",
   "metadata": {},
   "source": [
    "#### Class:\n",
    "A class is a collection of objects. A class contains the blue-prints or prototype from which the objects are being created. It is a entity that contains some attributes and methods.\n",
    "\n",
    "Ex: To Track the different attributes like breed, age. if a list is used, the first element could be the dog's breed while the second object could represent its age. "
   ]
  },
  {
   "cell_type": "markdown",
   "id": "5b41454c",
   "metadata": {},
   "source": [
    "### Functions"
   ]
  },
  {
   "cell_type": "code",
   "execution_count": 1,
   "id": "93400b00",
   "metadata": {},
   "outputs": [],
   "source": [
    "def even_odd(num):\n",
    "    if num%2==0:\n",
    "        print(\"The number is even\")\n",
    "    else:\n",
    "        print(\"The number is odd\")"
   ]
  },
  {
   "cell_type": "code",
   "execution_count": 2,
   "id": "91da4bb6",
   "metadata": {},
   "outputs": [
    {
     "name": "stdout",
     "output_type": "stream",
     "text": [
      "The number is even\n"
     ]
    }
   ],
   "source": [
    "even_odd(30)"
   ]
  },
  {
   "cell_type": "code",
   "execution_count": 9,
   "id": "213c9fde",
   "metadata": {},
   "outputs": [],
   "source": [
    "#Print vs return\n",
    "def hello_world():\n",
    "    print(\"Hello Welcome\")"
   ]
  },
  {
   "cell_type": "code",
   "execution_count": 10,
   "id": "c581a584",
   "metadata": {},
   "outputs": [
    {
     "name": "stdout",
     "output_type": "stream",
     "text": [
      "Hello Welcome\n",
      "None\n"
     ]
    }
   ],
   "source": [
    "a=hello_world()\n",
    "print(a)"
   ]
  },
  {
   "cell_type": "code",
   "execution_count": 11,
   "id": "73802241",
   "metadata": {},
   "outputs": [],
   "source": [
    "def hello_world():\n",
    "    return \"Hello Welcome\""
   ]
  },
  {
   "cell_type": "code",
   "execution_count": 12,
   "id": "32908908",
   "metadata": {},
   "outputs": [],
   "source": [
    "val=hello_world()"
   ]
  },
  {
   "cell_type": "code",
   "execution_count": 13,
   "id": "049875ba",
   "metadata": {},
   "outputs": [
    {
     "name": "stdout",
     "output_type": "stream",
     "text": [
      "Hello Welcome\n"
     ]
    }
   ],
   "source": [
    "print(val)"
   ]
  },
  {
   "cell_type": "code",
   "execution_count": 18,
   "id": "f19b7ad5",
   "metadata": {},
   "outputs": [],
   "source": [
    "#Name is a positional argument i.e. value is not initialized inside the function definition\n",
    "#Age is a keyword argument\n",
    "def hello(name,age=21):\n",
    "    print(\"My name is {} and age is {}\".format(name,age))"
   ]
  },
  {
   "cell_type": "code",
   "execution_count": 19,
   "id": "1090d9dd",
   "metadata": {},
   "outputs": [
    {
     "name": "stdout",
     "output_type": "stream",
     "text": [
      "My name is krish and age is 21\n"
     ]
    }
   ],
   "source": [
    "hello('krish')"
   ]
  },
  {
   "cell_type": "code",
   "execution_count": 21,
   "id": "e42ebd49",
   "metadata": {},
   "outputs": [],
   "source": [
    "def hello(*args,**kwargs):\n",
    "    print(args)\n",
    "    print(kwargs)"
   ]
  },
  {
   "cell_type": "code",
   "execution_count": 24,
   "id": "c07928cf",
   "metadata": {},
   "outputs": [
    {
     "name": "stdout",
     "output_type": "stream",
     "text": [
      "(1, 2, 3, 4)\n",
      "{'age': 21, 'dob': '17-Aug-2000'}\n"
     ]
    }
   ],
   "source": [
    "# 1,2,3,4 is positional arguments, where as age and dob are keyword arguments\n",
    "hello(1,2,3,4,age=21,dob=\"17-Aug-2000\")"
   ]
  },
  {
   "cell_type": "code",
   "execution_count": 25,
   "id": "1d1e98b1",
   "metadata": {},
   "outputs": [
    {
     "name": "stdout",
     "output_type": "stream",
     "text": [
      "([1, 2, 3, 4], {'age': 21, 'dob': '17-Aug-2000'})\n",
      "{}\n"
     ]
    }
   ],
   "source": [
    "# This is wrong as this is taking both the arguments as positional arguments\n",
    "lst=[1,2,3,4]\n",
    "dic={'age': 21, 'dob': '17-Aug-2000'}\n",
    "hello(lst,dic)"
   ]
  },
  {
   "cell_type": "code",
   "execution_count": 26,
   "id": "71d995ac",
   "metadata": {},
   "outputs": [
    {
     "name": "stdout",
     "output_type": "stream",
     "text": [
      "(1, 2, 3, 4)\n",
      "{'age': 21, 'dob': '17-Aug-2000'}\n"
     ]
    }
   ],
   "source": [
    "hello(*lst,**dic)"
   ]
  },
  {
   "cell_type": "code",
   "execution_count": 27,
   "id": "a075ca89",
   "metadata": {},
   "outputs": [],
   "source": [
    "lst=[1,2,3,4,5,6,7,8,9]"
   ]
  },
  {
   "cell_type": "code",
   "execution_count": 30,
   "id": "3f94beb5",
   "metadata": {},
   "outputs": [],
   "source": [
    "def evenoddsum(lst):\n",
    "    even_sum=0\n",
    "    odd_sum=0\n",
    "    for i in lst:\n",
    "        if i%2==0:\n",
    "            even_sum+=i\n",
    "        else:\n",
    "            odd_sum+=i\n",
    "    return even_sum,odd_sum"
   ]
  },
  {
   "cell_type": "code",
   "execution_count": 31,
   "id": "b539c99b",
   "metadata": {},
   "outputs": [],
   "source": [
    "even_sum,odd_sum=evenoddsum(lst)"
   ]
  },
  {
   "cell_type": "code",
   "execution_count": 32,
   "id": "43ade048",
   "metadata": {},
   "outputs": [
    {
     "name": "stdout",
     "output_type": "stream",
     "text": [
      "20 25\n"
     ]
    }
   ],
   "source": [
    "print(even_sum,odd_sum)"
   ]
  },
  {
   "cell_type": "markdown",
   "id": "0c4b9206",
   "metadata": {},
   "source": [
    "## Lambda Functions"
   ]
  },
  {
   "cell_type": "markdown",
   "id": "d48966f6",
   "metadata": {},
   "source": [
    "Anonymous functions.\n",
    "\n",
    "A function with no name "
   ]
  },
  {
   "cell_type": "code",
   "execution_count": 33,
   "id": "39bfe463",
   "metadata": {},
   "outputs": [],
   "source": [
    "def addition(a,b):\n",
    "    return a+b"
   ]
  },
  {
   "cell_type": "code",
   "execution_count": 34,
   "id": "1f142740",
   "metadata": {},
   "outputs": [
    {
     "data": {
      "text/plain": [
       "9"
      ]
     },
     "execution_count": 34,
     "metadata": {},
     "output_type": "execute_result"
    }
   ],
   "source": [
    "addition(4,5)"
   ]
  },
  {
   "cell_type": "markdown",
   "id": "e2be3a60",
   "metadata": {},
   "source": [
    "For writting a single expression it is good to use lambda functions, hence we dont have any need to write the two lines of code"
   ]
  },
  {
   "cell_type": "code",
   "execution_count": 40,
   "id": "b39d7f42",
   "metadata": {},
   "outputs": [],
   "source": [
    "# It is only possible to use lambda functions in case of single expression.\n",
    "addition1=lambda a,b:a+b"
   ]
  },
  {
   "cell_type": "code",
   "execution_count": 41,
   "id": "e0fefb90",
   "metadata": {},
   "outputs": [
    {
     "data": {
      "text/plain": [
       "9"
      ]
     },
     "execution_count": 41,
     "metadata": {},
     "output_type": "execute_result"
    }
   ],
   "source": [
    "addition1(4,5)"
   ]
  },
  {
   "cell_type": "code",
   "execution_count": 44,
   "id": "6a8f1375",
   "metadata": {},
   "outputs": [],
   "source": [
    "even=lambda a:a%2==0"
   ]
  },
  {
   "cell_type": "code",
   "execution_count": 45,
   "id": "16cd218c",
   "metadata": {},
   "outputs": [
    {
     "data": {
      "text/plain": [
       "True"
      ]
     },
     "execution_count": 45,
     "metadata": {},
     "output_type": "execute_result"
    }
   ],
   "source": [
    "even(12)"
   ]
  },
  {
   "cell_type": "code",
   "execution_count": 46,
   "id": "972d7fc6",
   "metadata": {},
   "outputs": [],
   "source": [
    "def addition(x,y,z):\n",
    "    return x+y+z"
   ]
  },
  {
   "cell_type": "code",
   "execution_count": 47,
   "id": "a9bd1398",
   "metadata": {},
   "outputs": [
    {
     "data": {
      "text/plain": [
       "9"
      ]
     },
     "execution_count": 47,
     "metadata": {},
     "output_type": "execute_result"
    }
   ],
   "source": [
    "addition(2,3,4)"
   ]
  },
  {
   "cell_type": "code",
   "execution_count": 48,
   "id": "fb9b7d60",
   "metadata": {},
   "outputs": [],
   "source": [
    "add=lambda x,y,z: x+y+z"
   ]
  },
  {
   "cell_type": "code",
   "execution_count": 49,
   "id": "a7e33e9d",
   "metadata": {},
   "outputs": [
    {
     "data": {
      "text/plain": [
       "10"
      ]
     },
     "execution_count": 49,
     "metadata": {},
     "output_type": "execute_result"
    }
   ],
   "source": [
    "add(2,3,5)"
   ]
  },
  {
   "cell_type": "markdown",
   "id": "7f32328d",
   "metadata": {},
   "source": [
    "## Map Function in python"
   ]
  },
  {
   "cell_type": "code",
   "execution_count": 54,
   "id": "6e511369",
   "metadata": {},
   "outputs": [],
   "source": [
    "def even_or_odd(num):\n",
    "    if num%2==0:\n",
    "        return \"The number {} is Even\".format(num)\n",
    "    else:\n",
    "        return \"The number {} is odd\".format(num)"
   ]
  },
  {
   "cell_type": "code",
   "execution_count": 55,
   "id": "da9f4c3b",
   "metadata": {},
   "outputs": [
    {
     "data": {
      "text/plain": [
       "'The number 6 is Even'"
      ]
     },
     "execution_count": 55,
     "metadata": {},
     "output_type": "execute_result"
    }
   ],
   "source": [
    "even_or_odd(6)"
   ]
  },
  {
   "cell_type": "code",
   "execution_count": 56,
   "id": "080a554e",
   "metadata": {},
   "outputs": [],
   "source": [
    "lst=[1,2,3,4,5,6,7,8,24,56,52,553]"
   ]
  },
  {
   "cell_type": "code",
   "execution_count": 58,
   "id": "b643b6b6",
   "metadata": {},
   "outputs": [
    {
     "data": {
      "text/plain": [
       "['The number 1 is odd',\n",
       " 'The number 2 is Even',\n",
       " 'The number 3 is odd',\n",
       " 'The number 4 is Even',\n",
       " 'The number 5 is odd',\n",
       " 'The number 6 is Even',\n",
       " 'The number 7 is odd',\n",
       " 'The number 8 is Even',\n",
       " 'The number 24 is Even',\n",
       " 'The number 56 is Even',\n",
       " 'The number 52 is Even',\n",
       " 'The number 553 is odd']"
      ]
     },
     "execution_count": 58,
     "metadata": {},
     "output_type": "execute_result"
    }
   ],
   "source": [
    "list(map(even_or_odd,lst))"
   ]
  },
  {
   "cell_type": "code",
   "execution_count": 68,
   "id": "300a6dd1",
   "metadata": {},
   "outputs": [],
   "source": [
    "def find_vowel(s):\n",
    "    if s=='a' or s=='e'or s=='i' or s=='o' or s=='u':\n",
    "        return ('vowel')\n",
    "    else:\n",
    "        return (\"consonant\")"
   ]
  },
  {
   "cell_type": "code",
   "execution_count": 69,
   "id": "3bc6338d",
   "metadata": {},
   "outputs": [],
   "source": [
    "lst=['a','e','b','c','d','f','g','z']"
   ]
  },
  {
   "cell_type": "code",
   "execution_count": 70,
   "id": "2df907c4",
   "metadata": {},
   "outputs": [
    {
     "data": {
      "text/plain": [
       "['vowel',\n",
       " 'vowel',\n",
       " 'consonant',\n",
       " 'consonant',\n",
       " 'consonant',\n",
       " 'consonant',\n",
       " 'consonant',\n",
       " 'consonant']"
      ]
     },
     "execution_count": 70,
     "metadata": {},
     "output_type": "execute_result"
    }
   ],
   "source": [
    "list(map(find_vowel,lst))"
   ]
  },
  {
   "cell_type": "markdown",
   "id": "803c11d4",
   "metadata": {},
   "source": [
    "## Filter functions in python"
   ]
  },
  {
   "cell_type": "code",
   "execution_count": 72,
   "id": "f406fca5",
   "metadata": {},
   "outputs": [
    {
     "data": {
      "text/plain": [
       "['a', 'e', 'b', 'c', 'd', 'f', 'g', 'z']"
      ]
     },
     "execution_count": 72,
     "metadata": {},
     "output_type": "execute_result"
    }
   ],
   "source": [
    "list(filter(find_vowel,lst)) "
   ]
  },
  {
   "cell_type": "code",
   "execution_count": 83,
   "id": "fcc2abab",
   "metadata": {},
   "outputs": [],
   "source": [
    "ans=list(filter(lambda s:s=='a' or s=='e',lst))"
   ]
  },
  {
   "cell_type": "code",
   "execution_count": 84,
   "id": "dd4e459f",
   "metadata": {},
   "outputs": [
    {
     "name": "stdout",
     "output_type": "stream",
     "text": [
      "['a', 'e']\n"
     ]
    }
   ],
   "source": [
    "print(ans)"
   ]
  },
  {
   "cell_type": "code",
   "execution_count": 90,
   "id": "872b6d81",
   "metadata": {},
   "outputs": [
    {
     "name": "stdout",
     "output_type": "stream",
     "text": [
      "a\n",
      "e\n",
      "b\n",
      "c\n",
      "d\n",
      "f\n",
      "g\n",
      "z\n"
     ]
    }
   ],
   "source": [
    "for i in lst:\n",
    "    print(i)"
   ]
  },
  {
   "cell_type": "code",
   "execution_count": null,
   "id": "0d6bfe7d",
   "metadata": {},
   "outputs": [],
   "source": []
  }
 ],
 "metadata": {
  "kernelspec": {
   "display_name": "Python 3 (ipykernel)",
   "language": "python",
   "name": "python3"
  },
  "language_info": {
   "codemirror_mode": {
    "name": "ipython",
    "version": 3
   },
   "file_extension": ".py",
   "mimetype": "text/x-python",
   "name": "python",
   "nbconvert_exporter": "python",
   "pygments_lexer": "ipython3",
   "version": "3.9.7"
  }
 },
 "nbformat": 4,
 "nbformat_minor": 5
}
